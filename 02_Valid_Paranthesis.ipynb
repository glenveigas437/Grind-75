{
  "nbformat": 4,
  "nbformat_minor": 0,
  "metadata": {
    "colab": {
      "provenance": []
    },
    "kernelspec": {
      "name": "python3",
      "display_name": "Python 3"
    },
    "language_info": {
      "name": "python"
    }
  },
  "cells": [
    {
      "cell_type": "code",
      "source": [
        "\"\"\"\n",
        "STEPS\n",
        "- Create a hashmap `char_map` that maps closing brackets to their corresponding opening brackets.\n",
        "- Initialize an empty list `stack` to keep track of unmatched opening brackets.\n",
        "- Iterate through each character in the string `s`:\n",
        "  - If the character is a closing bracket (exists in `char_map`):\n",
        "    - Check if the stack is not empty and the top of the stack matches the corresponding opening bracket:\n",
        "      - If it matches, pop the top element from the stack.\n",
        "      - Otherwise, return False (invalid sequence).\n",
        "  - If the character is an opening bracket (not in `char_map`):\n",
        "    - Push it onto the stack.\n",
        "- After the loop, return True if the stack is empty (all brackets matched and balanced), otherwise return False (unmatched brackets remain).\n",
        "\n",
        "TC: O(N)\n",
        "SC: O(N)\n",
        "\"\"\"\n"
      ],
      "metadata": {
        "id": "GyT0citsYdbl"
      },
      "execution_count": null,
      "outputs": []
    },
    {
      "cell_type": "code",
      "execution_count": null,
      "metadata": {
        "id": "PCLXQq8oYY3P"
      },
      "outputs": [],
      "source": [
        "class Solution:\n",
        "    def isValid(self, s: str) -> bool:\n",
        "      stack = []\n",
        "      char_map = {')':'(', '}':'{', ']':'['}\n",
        "\n",
        "      for character in s:\n",
        "        if character in char_map:\n",
        "          if stack and stack[-1] == char_map[character]:\n",
        "            stack.pop()\n",
        "          else:\n",
        "            return False\n",
        "        else:\n",
        "          stack.append(character)\n",
        "      return True if not stack else False\n",
        ""
      ]
    },
    {
      "cell_type": "code",
      "source": [],
      "metadata": {
        "id": "oRgre3BwZLvb"
      },
      "execution_count": null,
      "outputs": []
    }
  ]
}