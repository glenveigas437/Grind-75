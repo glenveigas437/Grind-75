{
  "nbformat": 4,
  "nbformat_minor": 0,
  "metadata": {
    "colab": {
      "provenance": []
    },
    "kernelspec": {
      "name": "python3",
      "display_name": "Python 3"
    },
    "language_info": {
      "name": "python"
    }
  },
  "cells": [
    {
      "cell_type": "code",
      "source": [
        "\"\"\"\n",
        "STEPS\n",
        "- set left Pointer = 0\n",
        "- set right Pointer = len(heights)-1\n",
        "- set trapped_sum = 0\n",
        "- loop till left Pointer < rightPointer\n",
        "    - if heights[leftPointer] < heights[rightPointer]\n",
        "        - check for max_at_left = max(max_at_left, heights[leftPointer])\n",
        "        - Add max_at_left - heights[leftPointer] to trapped_sum\n",
        "        - increment leftPointer by 1\n",
        "    - else\n",
        "        - check for max_at_right = max(max_at_right, heights[rightPointer])\n",
        "        - Add max_at_right - height[rightPointer] to trapped_sum\n",
        "        - decrement rightPointer by 1\n",
        "- return trapped_sum\n",
        "\n",
        "TC: O(N)\n",
        "SC: O(1)\n",
        "\"\"\""
      ],
      "metadata": {
        "id": "GyT0citsYdbl",
        "colab": {
          "base_uri": "https://localhost:8080/",
          "height": 87
        },
        "collapsed": true,
        "outputId": "d327abe3-7bcf-4e93-b389-96084a49e8ca"
      },
      "execution_count": 1,
      "outputs": [
        {
          "output_type": "execute_result",
          "data": {
            "text/plain": [
              "'\\nSTEPS\\n- Check if either list1 or list2 is empty:\\n- If list1 is empty, \\n  - return list2.\\n- If list2 is empty, \\n  - return list1.\\n- Compare the val of the current nodes in list1 and list2:\\n    - If list1.val < list2.val:\\n        - Recursively merge the next node of list1 (list1.next) with list2.\\n        - Set list1.next to the result of this merge.\\n        - Return list1.\\n- Otherwise:\\n  - Recursively merge list1 with the next node of list2 (list2.next).\\n  - Set list2.next to the result of this merge.\\n  - Return list2.\\n\\nTC: O(N)\\nSC: O(N)\\n'"
            ],
            "application/vnd.google.colaboratory.intrinsic+json": {
              "type": "string"
            }
          },
          "metadata": {},
          "execution_count": 1
        }
      ]
    },
    {
      "cell_type": "code",
      "execution_count": 2,
      "metadata": {
        "id": "PCLXQq8oYY3P"
      },
      "outputs": [],
      "source": [
        "from typing import List\n",
        "\n",
        "class Solution:\n",
        "    def trap(self, height: List[int]) -> int:\n",
        "        leftPointer = 0\n",
        "        rightPointer = len(height)-1\n",
        "\n",
        "        max_at_left = height[0]\n",
        "        max_at_right = height[-1]\n",
        "\n",
        "        trapped_sum = 0\n",
        "\n",
        "        while(leftPointer<rightPointer):\n",
        "            if(leftPointer<rightPointer):\n",
        "              max_at_left = max(height[leftPointer], max_at_left)\n",
        "              trapped_sum+= max_at_left - height[leftPointer]\n",
        "              leftPointer+=1\n",
        "            else:\n",
        "              max_at_right = max(height[rightPointer], max_at_right)\n",
        "              trapped_sum+= max_at_right -height[rightPointer]\n",
        "              rightPointer+=1\n",
        "\n",
        "        return trapped_sum"
      ]
    },
    {
      "cell_type": "code",
      "source": [],
      "metadata": {
        "id": "oRgre3BwZLvb"
      },
      "execution_count": null,
      "outputs": []
    }
  ]
}