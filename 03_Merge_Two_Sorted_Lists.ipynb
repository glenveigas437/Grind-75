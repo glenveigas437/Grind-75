{
  "nbformat": 4,
  "nbformat_minor": 0,
  "metadata": {
    "colab": {
      "provenance": []
    },
    "kernelspec": {
      "name": "python3",
      "display_name": "Python 3"
    },
    "language_info": {
      "name": "python"
    }
  },
  "cells": [
    {
      "cell_type": "code",
      "source": [
        "\"\"\"\n",
        "STEPS\n",
        "- Check if either list1 or list2 is empty:\n",
        "- If list1 is empty,\n",
        "  - return list2.\n",
        "- If list2 is empty,\n",
        "  - return list1.\n",
        "- Compare the val of the current nodes in list1 and list2:\n",
        "    - If list1.val < list2.val:\n",
        "        - Recursively merge the next node of list1 (list1.next) with list2.\n",
        "        - Set list1.next to the result of this merge.\n",
        "        - Return list1.\n",
        "- Otherwise:\n",
        "  - Recursively merge list1 with the next node of list2 (list2.next).\n",
        "  - Set list2.next to the result of this merge.\n",
        "  - Return list2.\n",
        "\n",
        "TC: O(N)\n",
        "SC: O(N)\n",
        "\"\"\"\n"
      ],
      "metadata": {
        "id": "GyT0citsYdbl",
        "colab": {
          "base_uri": "https://localhost:8080/",
          "height": 87
        },
        "collapsed": true,
        "outputId": "d327abe3-7bcf-4e93-b389-96084a49e8ca"
      },
      "execution_count": 1,
      "outputs": [
        {
          "output_type": "execute_result",
          "data": {
            "text/plain": [
              "'\\nSTEPS\\n- Check if either list1 or list2 is empty:\\n- If list1 is empty, \\n  - return list2.\\n- If list2 is empty, \\n  - return list1.\\n- Compare the val of the current nodes in list1 and list2:\\n    - If list1.val < list2.val:\\n        - Recursively merge the next node of list1 (list1.next) with list2.\\n        - Set list1.next to the result of this merge.\\n        - Return list1.\\n- Otherwise:\\n  - Recursively merge list1 with the next node of list2 (list2.next).\\n  - Set list2.next to the result of this merge.\\n  - Return list2.\\n\\nTC: O(N)\\nSC: O(N)\\n'"
            ],
            "application/vnd.google.colaboratory.intrinsic+json": {
              "type": "string"
            }
          },
          "metadata": {},
          "execution_count": 1
        }
      ]
    },
    {
      "cell_type": "code",
      "execution_count": null,
      "metadata": {
        "id": "PCLXQq8oYY3P"
      },
      "outputs": [],
      "source": [
        "\n",
        "class ListNode:\n",
        "    def __init__(self, val=0, next=None):\n",
        "        self.val = val\n",
        "        self.next = next\n",
        "\n",
        "class Solution:\n",
        "  def mergeTwoLists(self, list1: Optional[ListNode], list2: Optional[ListNode]) -> Optional[ListNode]:\n",
        "    if not list1:\n",
        "      return list2\n",
        "    if not list2:\n",
        "      return list1\n",
        "\n",
        "    if list1.val < list2.val:\n",
        "      list1.next = self.mergeTwoLists(list1.next, list2)\n",
        "      return list1\n",
        "    else:\n",
        "      list2.next = self.mergeTwoLists(list1, list2.next)\n",
        "      return list2\n",
        "\n",
        "\n",
        ""
      ]
    },
    {
      "cell_type": "code",
      "source": [],
      "metadata": {
        "id": "oRgre3BwZLvb"
      },
      "execution_count": null,
      "outputs": []
    }
  ]
}