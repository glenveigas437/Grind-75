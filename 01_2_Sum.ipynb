{
  "nbformat": 4,
  "nbformat_minor": 0,
  "metadata": {
    "colab": {
      "provenance": []
    },
    "kernelspec": {
      "name": "python3",
      "display_name": "Python 3"
    },
    "language_info": {
      "name": "python"
    }
  },
  "cells": [
    {
      "cell_type": "code",
      "source": [
        "\"\"\"\n",
        "STEPS\n",
        "- Create a hashmap\n",
        "- Iterate through the list\n",
        "  - if array element is present in the hashmap and the index is not same\n",
        "    - return [current_index, element_index_in_hashmap]\n",
        "  - store the difference(target-nums[i]) in the hashmap\n",
        "\n",
        "TC: O(N)\n",
        "SC: O(N)\n",
        "\"\"\""
      ],
      "metadata": {
        "id": "GyT0citsYdbl"
      },
      "execution_count": null,
      "outputs": []
    },
    {
      "cell_type": "code",
      "execution_count": 2,
      "metadata": {
        "id": "PCLXQq8oYY3P"
      },
      "outputs": [],
      "source": [
        "class Solution:\n",
        "    def twoSum(self, nums: List[int], target: int) -> List[int]:\n",
        "\n",
        "        sum_diff_map = {}\n",
        "\n",
        "        for i in range(len(nums)):\n",
        "            if nums[i] in sum_diff_map and sum_diff_map[nums[i]]!=i:\n",
        "                return [i, sum_diff_map[nums[i]]]\n",
        "            sum_diff_map[target-nums[i]] = i"
      ]
    },
    {
      "cell_type": "code",
      "source": [],
      "metadata": {
        "id": "oRgre3BwZLvb"
      },
      "execution_count": null,
      "outputs": []
    }
  ]
}